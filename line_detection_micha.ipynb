{
 "cells": [
  {
   "cell_type": "markdown",
   "id": "cf154100-f4d4-4106-997b-93527f6e3880",
   "metadata": {},
   "source": [
    "# Line detection"
   ]
  },
  {
   "cell_type": "code",
   "execution_count": 31,
   "id": "5c248309-1dcd-4beb-8504-8553a13f17ab",
   "metadata": {},
   "outputs": [
    {
     "name": "stdout",
     "output_type": "stream",
     "text": [
      "{'time': '2022-08-21 10:30:45.582+0100', 'teams': {'team_0': {'99': {'x': 1.987826472727259, 'y': 2.970472643653721}, '30': {'x': -15.436932623214355, 'y': 0.2156612270343715}, '24': {'x': -8.06163037486854, 'y': 2.4319521924629632}, '12': {'x': 0.753816511462591, 'y': -0.9445798100296604}, '11': {'x': 2.503169328453538, 'y': 1.2942178110626623}, '6': {'x': -4.060422327828869, 'y': -1.9692764991637568}}, 'team_1': {'68': {'x': 0.9578315589918932, 'y': 0.0703982903757045}, '67': {'x': 15.843697852629484, 'y': -0.0692100160758221}, '16': {'x': 3.91726427556699, 'y': 1.5780097234980923}, '15': {'x': -1.204578483730813, 'y': 2.0243729841211264}, '8': {'x': 5.775124297324467, 'y': -0.915254513245627}, '3': {'x': 9.164991134100475, 'y': 2.432478433993027}}}}\n",
      "Timestamp 2022-08-21 10:30:45.582+0100\n",
      "Players Team 0 dict_keys(['99', '30', '24', '12', '11', '6'])\n",
      "Players Team 1 dict_keys(['68', '67', '16', '15', '8', '3'])\n"
     ]
    }
   ],
   "source": [
    "import json\n",
    "from kafka import KafkaConsumer\n",
    "\n",
    "consumer = KafkaConsumer('playerPositionGroupedByTime', bootstrap_servers='86.119.35.55', auto_offset_reset='earliest')\n",
    "\n",
    "msg_List = []\n",
    "for idx, msg in enumerate(consumer):\n",
    "    if idx > 200:\n",
    "        break\n",
    "    msg_List.append(json.loads(msg.value))\n",
    "\n",
    "print(msg_List[100])\n",
    "\n",
    "msg = msg_List[100]\n",
    "print(\"Timestamp\", msg[\"time\"])\n",
    "print(\"Players Team 0\", msg[\"teams\"][\"team_0\"].keys())\n",
    "print(\"Players Team 1\", msg[\"teams\"][\"team_1\"].keys())\n"
   ]
  }
 ],
 "metadata": {
  "kernelspec": {
   "display_name": "Python 3 (ipykernel)",
   "language": "python",
   "name": "python3"
  },
  "language_info": {
   "codemirror_mode": {
    "name": "ipython",
    "version": 3
   },
   "file_extension": ".py",
   "mimetype": "text/x-python",
   "name": "python",
   "nbconvert_exporter": "python",
   "pygments_lexer": "ipython3",
   "version": "3.9.7"
  }
 },
 "nbformat": 4,
 "nbformat_minor": 5
}
